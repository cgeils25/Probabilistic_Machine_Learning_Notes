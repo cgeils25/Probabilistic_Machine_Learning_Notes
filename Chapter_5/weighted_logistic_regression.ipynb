{
 "cells": [
  {
   "cell_type": "markdown",
   "metadata": {},
   "source": [
    "In this notebook, I implement a simple gradient descent solver for logistic regression with optional sample weighting. I apply it to the Wisconsin breast cancer classification dataset.\n",
    "\n",
    "I experimented with newton-raphson, but encountered severe numerical instability problems computing the Hessian. I may revisit this."
   ]
  },
  {
   "cell_type": "code",
   "execution_count": 149,
   "metadata": {},
   "outputs": [],
   "source": [
    "import numpy as np\n",
    "import polars as pl\n",
    "import warnings\n",
    "\n",
    "from sklearn.metrics import classification_report"
   ]
  },
  {
   "cell_type": "code",
   "execution_count": 57,
   "metadata": {},
   "outputs": [
    {
     "data": {
      "text/plain": [
       "((455, 30), (455,))"
      ]
     },
     "execution_count": 57,
     "metadata": {},
     "output_type": "execute_result"
    }
   ],
   "source": [
    "from sklearn.model_selection import train_test_split\n",
    "\n",
    "DIAGNOSIS_TO_INT_MAPPING = {'B': 0, 'M': 1}\n",
    "\n",
    "INT_TO_DIAGNOSIS_MAPPING = {v: k for k, v in DIAGNOSIS_TO_INT_MAPPING.items()}\n",
    "\n",
    "def prepare_breast_cancer_wisconsin_dataset(path: str):\n",
    "    # load data\n",
    "    data = pl.read_csv(path)\n",
    "\n",
    "    # process data into feature matrix (X) and target vector (y)\n",
    "    X = data.select(pl.exclude(['id', 'diagnosis', ''])).to_numpy()\n",
    "    y = data['diagnosis'].replace_strict(old=DIAGNOSIS_TO_INT_MAPPING, return_dtype=pl.Int8).to_numpy()\n",
    "\n",
    "    # split data\n",
    "    X_train, X_test, y_train, y_test = train_test_split(X, y, test_size=.2, random_state=1738)\n",
    "\n",
    "    return X_train, X_test, y_train, y_test\n",
    "\n",
    "X_train, X_test, y_train, y_test = prepare_breast_cancer_wisconsin_dataset(path='../data/breast_cancer_wisconsin_diagnosis.csv')\n",
    "\n",
    "X_train.shape, y_train.shape"
   ]
  },
  {
   "cell_type": "code",
   "execution_count": 198,
   "metadata": {},
   "outputs": [],
   "source": [
    "SIGMOID_Z_IMPUTATION_THRESHOLD = -20\n",
    "\n",
    "class LogisticRegression:\n",
    "    \"\"\"\n",
    "    A logistic regression model\n",
    "    \"\"\"\n",
    "    def __init__(self, tol: float = .001, max_iter: int = 1000, lr: float = .01, lr_decay: float = .9999, dtype: np.dtype = np.float32):\n",
    "        \"\"\"Initialize a logistic regression model\n",
    "\n",
    "        Args:\n",
    "            tol (float, optional): tolerance for stopping. GD is considered converged when all partials are below tol. Defaults to .001.\n",
    "            max_iter (int, optional): maximum number of training interations. Defaults to 1000.\n",
    "            lr (float, optional): learning rate, to be multiplied with the gradient vector before each GD step. Defaults to .01.\n",
    "            lr_decay (float, optional): learning rate decay coefficient. At each iteration lr *= lr_decay. Defaults to .9999.\n",
    "            dtype (np.dtype, optional): data type for all internal numpy arrays. Defaults to np.float32.\n",
    "        \"\"\"\n",
    "        self.tol = tol\n",
    "        self.max_iter = max_iter\n",
    "        self.lr = lr\n",
    "        self.dtype = dtype\n",
    "        self.lr_decay = lr_decay\n",
    "\n",
    "    def _add_ones_column(self, X: np.ndarray) -> np.ndarray:\n",
    "        return np.concat([np.ones(shape=(X.shape[0], 1)), X], axis = 1)\n",
    "    \n",
    "    def _sigmoid(self, z: np.ndarray) -> np.ndarray:\n",
    "        result = np.zeros_like(z, dtype=self.dtype)\n",
    "\n",
    "        stable_mask = z > SIGMOID_Z_IMPUTATION_THRESHOLD\n",
    "\n",
    "        # only compute sigmoid for z above threshold to prevent overflow. Otherwise just sub 0\n",
    "        result[stable_mask] = 1 / (1 + np.exp(-z[stable_mask]))\n",
    "        \n",
    "        return result\n",
    "\n",
    "    def _forward(self, X: np.ndarray) -> np.ndarray:\n",
    "        return self._sigmoid(self._add_ones_column(X) @ self.w)\n",
    "\n",
    "    def fit(self, X: np.ndarray, y: np.ndarray, weights: np.ndarray = None, verbose: bool = False) -> None:\n",
    "        \"\"\"Fit model\n",
    "\n",
    "        Args:\n",
    "            X (np.ndarray): training features\n",
    "            y (np.ndarray): target vector\n",
    "            weights (np.ndarray, optional): sample weights. Defaults to None.\n",
    "            verbose (bool, optional): whether to print warnings. Defaults to False.\n",
    "\n",
    "        Raises:\n",
    "            ValueError: if sample weight array does not match shape of target\n",
    "        \"\"\"\n",
    "        if weights is not None and weights.shape != y.shape:\n",
    "            raise ValueError('sample weight array must have same shape as target vector')\n",
    "        \n",
    "        X_one_col = self._add_ones_column(X)\n",
    "        \n",
    "        self.num_params = X_one_col.shape[1]\n",
    "\n",
    "        self.w = np.random.uniform(size=(self.num_params,))\n",
    "        \n",
    "        descent_term = np.full(shape=(self.num_params,), fill_value=np.inf) # the f(x) / f'(x) term in newton's method\n",
    "\n",
    "        # so I don't decay the class attribute\n",
    "        _lr = self.lr\n",
    "\n",
    "        for i in range(self.max_iter):\n",
    "            if np.all(np.abs(descent_term) < self.tol):\n",
    "                self.n_iters_to_fit = i + 1\n",
    "                break\n",
    "            \n",
    "            # compute gradient vector (d loss wrt weights)\n",
    "            if weights is not None:\n",
    "                grad_w = X_one_col.T @ ((self._sigmoid(X_one_col @ self.w) - y) * weights)\n",
    "            else:\n",
    "                grad_w = X_one_col.T @ (self._sigmoid(X_one_col @ self.w) - y)\n",
    "            \n",
    "            # gradient descent update\n",
    "            self.w -= grad_w * _lr\n",
    "\n",
    "            # learning rate decay\n",
    "            _lr *= self.lr_decay\n",
    "\n",
    "        else:\n",
    "            if verbose:\n",
    "                warnings.warn('Gradient descent method failed to converge. Consider increasing max_iter and/or tol.')\n",
    "\n",
    "    def predict(self, X: np.ndarray, probability_threshold: float = 0.5) -> np.ndarray:\n",
    "        \"\"\"Make predictions\n",
    "\n",
    "        Args:\n",
    "            X (np.ndarray): training features\n",
    "            probability_threshold (float, optional): threshold above which samples are assigned to the positive class. Defaults to 0.5.\n",
    "\n",
    "        Returns:\n",
    "            np.ndarray: an array of shape (number of samples, ) containing binary class labels (in {0, 1})\n",
    "        \"\"\"\n",
    "        return np.astype(self._forward(X) > probability_threshold, np.int8)\n"
   ]
  },
  {
   "cell_type": "code",
   "execution_count": 249,
   "metadata": {},
   "outputs": [
    {
     "name": "stdout",
     "output_type": "stream",
     "text": [
      "              precision    recall  f1-score   support\n",
      "\n",
      "           0       0.96      0.87      0.91        79\n",
      "           1       0.76      0.91      0.83        35\n",
      "\n",
      "    accuracy                           0.89       114\n",
      "   macro avg       0.86      0.89      0.87       114\n",
      "weighted avg       0.90      0.89      0.89       114\n",
      "\n"
     ]
    }
   ],
   "source": [
    "# no weights\n",
    "model = LogisticRegression(max_iter=10_000)\n",
    "model.fit(X_train, y_train)\n",
    "y_test_pred = model.predict(X_test)\n",
    "\n",
    "print(classification_report(y_test, y_test_pred))"
   ]
  },
  {
   "cell_type": "code",
   "execution_count": 251,
   "metadata": {},
   "outputs": [
    {
     "name": "stdout",
     "output_type": "stream",
     "text": [
      "              precision    recall  f1-score   support\n",
      "\n",
      "           0       0.92      0.97      0.94        79\n",
      "           1       0.93      0.80      0.86        35\n",
      "\n",
      "    accuracy                           0.92       114\n",
      "   macro avg       0.93      0.89      0.90       114\n",
      "weighted avg       0.92      0.92      0.92       114\n",
      "\n"
     ]
    }
   ],
   "source": [
    "# weight positive class 3x negative class\n",
    "model = LogisticRegression(max_iter=10_000)\n",
    "model.fit(X_train, y_train, weights=y_train + .5)\n",
    "y_test_pred = model.predict(X_test)\n",
    "\n",
    "print(classification_report(y_test, y_test_pred))"
   ]
  }
 ],
 "metadata": {
  "kernelspec": {
   "display_name": ".venv",
   "language": "python",
   "name": "python3"
  },
  "language_info": {
   "codemirror_mode": {
    "name": "ipython",
    "version": 3
   },
   "file_extension": ".py",
   "mimetype": "text/x-python",
   "name": "python",
   "nbconvert_exporter": "python",
   "pygments_lexer": "ipython3",
   "version": "3.13.1"
  }
 },
 "nbformat": 4,
 "nbformat_minor": 2
}
