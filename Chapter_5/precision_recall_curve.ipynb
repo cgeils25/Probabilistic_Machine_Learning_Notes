{
 "cells": [
  {
   "cell_type": "code",
   "execution_count": 69,
   "metadata": {},
   "outputs": [],
   "source": [
    "import polars as pl\n",
    "import numpy as np\n",
    "import matplotlib.pyplot as plt\n",
    "\n",
    "from sklearn.linear_model import LogisticRegression\n",
    "from sklearn.model_selection import cross_val_predict"
   ]
  },
  {
   "cell_type": "code",
   "execution_count": 4,
   "metadata": {},
   "outputs": [
    {
     "data": {
      "text/html": [
       "<div><style>\n",
       ".dataframe > thead > tr,\n",
       ".dataframe > tbody > tr {\n",
       "  text-align: right;\n",
       "  white-space: pre-wrap;\n",
       "}\n",
       "</style>\n",
       "<small>shape: (5, 33)</small><table border=\"1\" class=\"dataframe\"><thead><tr><th>id</th><th>diagnosis</th><th>radius_mean</th><th>texture_mean</th><th>perimeter_mean</th><th>area_mean</th><th>smoothness_mean</th><th>compactness_mean</th><th>concavity_mean</th><th>concave points_mean</th><th>symmetry_mean</th><th>fractal_dimension_mean</th><th>radius_se</th><th>texture_se</th><th>perimeter_se</th><th>area_se</th><th>smoothness_se</th><th>compactness_se</th><th>concavity_se</th><th>concave points_se</th><th>symmetry_se</th><th>fractal_dimension_se</th><th>radius_worst</th><th>texture_worst</th><th>perimeter_worst</th><th>area_worst</th><th>smoothness_worst</th><th>compactness_worst</th><th>concavity_worst</th><th>concave points_worst</th><th>symmetry_worst</th><th>fractal_dimension_worst</th><th></th></tr><tr><td>i64</td><td>str</td><td>f64</td><td>f64</td><td>f64</td><td>f64</td><td>f64</td><td>f64</td><td>f64</td><td>f64</td><td>f64</td><td>f64</td><td>f64</td><td>f64</td><td>f64</td><td>f64</td><td>f64</td><td>f64</td><td>f64</td><td>f64</td><td>f64</td><td>f64</td><td>f64</td><td>f64</td><td>f64</td><td>f64</td><td>f64</td><td>f64</td><td>f64</td><td>f64</td><td>f64</td><td>f64</td><td>str</td></tr></thead><tbody><tr><td>842302</td><td>&quot;M&quot;</td><td>17.99</td><td>10.38</td><td>122.8</td><td>1001.0</td><td>0.1184</td><td>0.2776</td><td>0.3001</td><td>0.1471</td><td>0.2419</td><td>0.07871</td><td>1.095</td><td>0.9053</td><td>8.589</td><td>153.4</td><td>0.006399</td><td>0.04904</td><td>0.05373</td><td>0.01587</td><td>0.03003</td><td>0.006193</td><td>25.38</td><td>17.33</td><td>184.6</td><td>2019.0</td><td>0.1622</td><td>0.6656</td><td>0.7119</td><td>0.2654</td><td>0.4601</td><td>0.1189</td><td>null</td></tr><tr><td>842517</td><td>&quot;M&quot;</td><td>20.57</td><td>17.77</td><td>132.9</td><td>1326.0</td><td>0.08474</td><td>0.07864</td><td>0.0869</td><td>0.07017</td><td>0.1812</td><td>0.05667</td><td>0.5435</td><td>0.7339</td><td>3.398</td><td>74.08</td><td>0.005225</td><td>0.01308</td><td>0.0186</td><td>0.0134</td><td>0.01389</td><td>0.003532</td><td>24.99</td><td>23.41</td><td>158.8</td><td>1956.0</td><td>0.1238</td><td>0.1866</td><td>0.2416</td><td>0.186</td><td>0.275</td><td>0.08902</td><td>null</td></tr><tr><td>84300903</td><td>&quot;M&quot;</td><td>19.69</td><td>21.25</td><td>130.0</td><td>1203.0</td><td>0.1096</td><td>0.1599</td><td>0.1974</td><td>0.1279</td><td>0.2069</td><td>0.05999</td><td>0.7456</td><td>0.7869</td><td>4.585</td><td>94.03</td><td>0.00615</td><td>0.04006</td><td>0.03832</td><td>0.02058</td><td>0.0225</td><td>0.004571</td><td>23.57</td><td>25.53</td><td>152.5</td><td>1709.0</td><td>0.1444</td><td>0.4245</td><td>0.4504</td><td>0.243</td><td>0.3613</td><td>0.08758</td><td>null</td></tr><tr><td>84348301</td><td>&quot;M&quot;</td><td>11.42</td><td>20.38</td><td>77.58</td><td>386.1</td><td>0.1425</td><td>0.2839</td><td>0.2414</td><td>0.1052</td><td>0.2597</td><td>0.09744</td><td>0.4956</td><td>1.156</td><td>3.445</td><td>27.23</td><td>0.00911</td><td>0.07458</td><td>0.05661</td><td>0.01867</td><td>0.05963</td><td>0.009208</td><td>14.91</td><td>26.5</td><td>98.87</td><td>567.7</td><td>0.2098</td><td>0.8663</td><td>0.6869</td><td>0.2575</td><td>0.6638</td><td>0.173</td><td>null</td></tr><tr><td>84358402</td><td>&quot;M&quot;</td><td>20.29</td><td>14.34</td><td>135.1</td><td>1297.0</td><td>0.1003</td><td>0.1328</td><td>0.198</td><td>0.1043</td><td>0.1809</td><td>0.05883</td><td>0.7572</td><td>0.7813</td><td>5.438</td><td>94.44</td><td>0.01149</td><td>0.02461</td><td>0.05688</td><td>0.01885</td><td>0.01756</td><td>0.005115</td><td>22.54</td><td>16.67</td><td>152.2</td><td>1575.0</td><td>0.1374</td><td>0.205</td><td>0.4</td><td>0.1625</td><td>0.2364</td><td>0.07678</td><td>null</td></tr></tbody></table></div>"
      ],
      "text/plain": [
       "shape: (5, 33)\n",
       "┌──────────┬───────────┬────────────┬────────────┬───┬────────────┬────────────┬────────────┬──────┐\n",
       "│ id       ┆ diagnosis ┆ radius_mea ┆ texture_me ┆ … ┆ concave    ┆ symmetry_w ┆ fractal_di ┆      │\n",
       "│ ---      ┆ ---       ┆ n          ┆ an         ┆   ┆ points_wor ┆ orst       ┆ mension_wo ┆ ---  │\n",
       "│ i64      ┆ str       ┆ ---        ┆ ---        ┆   ┆ st         ┆ ---        ┆ rst        ┆ str  │\n",
       "│          ┆           ┆ f64        ┆ f64        ┆   ┆ ---        ┆ f64        ┆ ---        ┆      │\n",
       "│          ┆           ┆            ┆            ┆   ┆ f64        ┆            ┆ f64        ┆      │\n",
       "╞══════════╪═══════════╪════════════╪════════════╪═══╪════════════╪════════════╪════════════╪══════╡\n",
       "│ 842302   ┆ M         ┆ 17.99      ┆ 10.38      ┆ … ┆ 0.2654     ┆ 0.4601     ┆ 0.1189     ┆ null │\n",
       "│ 842517   ┆ M         ┆ 20.57      ┆ 17.77      ┆ … ┆ 0.186      ┆ 0.275      ┆ 0.08902    ┆ null │\n",
       "│ 84300903 ┆ M         ┆ 19.69      ┆ 21.25      ┆ … ┆ 0.243      ┆ 0.3613     ┆ 0.08758    ┆ null │\n",
       "│ 84348301 ┆ M         ┆ 11.42      ┆ 20.38      ┆ … ┆ 0.2575     ┆ 0.6638     ┆ 0.173      ┆ null │\n",
       "│ 84358402 ┆ M         ┆ 20.29      ┆ 14.34      ┆ … ┆ 0.1625     ┆ 0.2364     ┆ 0.07678    ┆ null │\n",
       "└──────────┴───────────┴────────────┴────────────┴───┴────────────┴────────────┴────────────┴──────┘"
      ]
     },
     "execution_count": 4,
     "metadata": {},
     "output_type": "execute_result"
    }
   ],
   "source": [
    "data_path = '../data/breast_cancer_wisconsin_diagnosis.csv'\n",
    "\n",
    "data = pl.read_csv(data_path)\n",
    "\n",
    "data.head()"
   ]
  },
  {
   "cell_type": "code",
   "execution_count": 59,
   "metadata": {},
   "outputs": [
    {
     "data": {
      "text/plain": [
       "({'B': 0, 'M': 1}, {0: 'B', 1: 'M'})"
      ]
     },
     "execution_count": 59,
     "metadata": {},
     "output_type": "execute_result"
    }
   ],
   "source": [
    "DIAGNOSIS_TO_INT_MAPPING = {'B': 0, 'M': 1}\n",
    "\n",
    "INT_TO_DIAGNOSIS_MAPPING = {v: k for k, v in DIAGNOSIS_TO_INT_MAPPING.items()}\n",
    "\n",
    "DIAGNOSIS_TO_INT_MAPPING, INT_TO_DIAGNOSIS_MAPPING"
   ]
  },
  {
   "cell_type": "code",
   "execution_count": 89,
   "metadata": {},
   "outputs": [],
   "source": [
    "X = data.select(pl.exclude(['id', 'diagnosis', '']))\n",
    "y = data['diagnosis'].replace_strict(old=DIAGNOSIS_TO_INT_MAPPING, return_dtype=pl.Int8).to_numpy()"
   ]
  },
  {
   "cell_type": "code",
   "execution_count": 108,
   "metadata": {},
   "outputs": [],
   "source": [
    "# cross-validate and return predicted probabilities\n",
    "y_proba = cross_val_predict(LogisticRegression(max_iter=5000), X=X, y=y, cv=10, method='predict_proba')"
   ]
  },
  {
   "cell_type": "code",
   "execution_count": 128,
   "metadata": {},
   "outputs": [],
   "source": [
    "# implementing these from scratch even though I could just use scikit-learn's functions\n",
    "def _validate_binary_target(x: np.ndarray) -> None:\n",
    "    if not np.all(np.isin(x, [0, 1])):\n",
    "        raise ValueError('target must be binary; all values should be either 0 or 1')\n",
    "\n",
    "\n",
    "def compute_precision(y_true: np.ndarray, y_pred: np.ndarray) -> float:\n",
    "    \"\"\"Compute precision, or the proportion of samples which are predicted to be positive that are actually positive\n",
    "\n",
    "    Args:\n",
    "        y_true (np.ndarray): target vector. Must be binary.\n",
    "        y_pred (np.ndarray): predictions. Must be binary. \n",
    "\n",
    "    Returns:\n",
    "        float: precision value\n",
    "    \"\"\"\n",
    "    for x in [y_true, y_pred]:\n",
    "        _validate_binary_target(x)\n",
    "    \n",
    "    positive_pred_mask = y_pred == 1\n",
    "\n",
    "    if not np.any(positive_pred_mask):\n",
    "        return 0\n",
    "\n",
    "    # what proportion of samples which are predicted to be positive are actually positive?\n",
    "    return np.mean(y_pred[positive_pred_mask] == y_true[positive_pred_mask])\n",
    "\n",
    "\n",
    "def compute_recall(y_true: np.ndarray, y_pred: np.ndarray) -> float:\n",
    "    \"\"\"Compute recall, or the proportion of samples which are actually positive that are predicted to be positive\n",
    "\n",
    "    Args:\n",
    "        y_true (np.ndarray): target vector. Must be binary.\n",
    "        y_pred (np.ndarray): predictions. Must be binary.\n",
    "\n",
    "    Returns:\n",
    "        float: recall value\n",
    "    \"\"\"\n",
    "    for x in [y_true, y_pred]:\n",
    "        _validate_binary_target(x)\n",
    "    \n",
    "    positive_mask = y_true == 1\n",
    "\n",
    "    if not np.any(positive_mask):\n",
    "        return 0\n",
    "\n",
    "    # what proportion of samples which are actually positive are predicted to be positive?\n",
    "    return np.mean(y_pred[positive_mask] == y_true[positive_mask])\n"
   ]
  },
  {
   "cell_type": "code",
   "execution_count": 133,
   "metadata": {},
   "outputs": [],
   "source": [
    "y_proba_positive = y_proba[:, 1]\n",
    "\n",
    "decision_thresholds = np.linspace(start = 0.01, stop=.99, num=1000)\n",
    "\n",
    "precisions = []\n",
    "recalls = []\n",
    "\n",
    "for decision_threshold in decision_thresholds:\n",
    "    y_pred = np.astype(y_proba_positive > decision_threshold, int)\n",
    "\n",
    "    precisions.append(compute_precision(y, y_pred))\n",
    "    recalls.append(compute_recall(y, y_pred))"
   ]
  },
  {
   "cell_type": "code",
   "execution_count": 135,
   "metadata": {},
   "outputs": [
    {
     "data": {
      "image/png": "[encoded data removed]",
      "text/plain": [
       "<Figure size 640x480 with 1 Axes>"
      ]
     },
     "metadata": {},
     "output_type": "display_data"
    }
   ],
   "source": [
    "plt.plot(recalls, precisions)\n",
    "plt.xlabel('recall')\n",
    "plt.ylabel('precision')\n",
    "\n",
    "plt.show()"
   ]
  }
 ],
 "metadata": {
  "kernelspec": {
   "display_name": ".venv",
   "language": "python",
   "name": "python3"
  },
  "language_info": {
   "codemirror_mode": {
    "name": "ipython",
    "version": 3
   },
   "file_extension": ".py",
   "mimetype": "text/x-python",
   "name": "python",
   "nbconvert_exporter": "python",
   "pygments_lexer": "ipython3",
   "version": "3.13.1"
  }
 },
 "nbformat": 4,
 "nbformat_minor": 2
}
